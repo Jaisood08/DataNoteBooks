{
 "cells": [
  {
   "cell_type": "markdown",
   "metadata": {},
   "source": [
    "Important Packages"
   ]
  },
  {
   "cell_type": "code",
   "execution_count": 1,
   "metadata": {},
   "outputs": [],
   "source": [
    "import nltk\n",
    "# nltk.download('punkt') # required for tokenization\n",
    "# nltk.download('stopwords') # required for Stopword Removal\n",
    "# nltk.download('wordnet')  # required for Lematization"
   ]
  },
  {
   "cell_type": "code",
   "execution_count": 2,
   "metadata": {},
   "outputs": [
    {
     "data": {
      "text/plain": [
       "'D:\\\\EDUCATION\\\\EDU\\\\SEM 6\\\\NLP'"
      ]
     },
     "execution_count": 2,
     "metadata": {},
     "output_type": "execute_result"
    }
   ],
   "source": [
    "import os\n",
    "cwd = os.getcwd()\n",
    "cwd"
   ]
  },
  {
   "cell_type": "markdown",
   "metadata": {},
   "source": [
    "Getting Training Data"
   ]
  },
  {
   "cell_type": "code",
   "execution_count": 3,
   "metadata": {},
   "outputs": [
    {
     "name": "stdout",
     "output_type": "stream",
     "text": [
      "./+//httpsen.wikipedia.orgwikiKumbh_Mela.txt\n",
      "./+//httpsindianexpress.comarticleexplainedkumbh-mela-2021-mythology-preparations-coronavirus-haridwar-6719596.txt\n",
      "./+//httpswww.britannica.comtopicKumbh-Mela.txt\n",
      "./+//httpswww.fortuneindia.compolemicistwhy-the-kumbh-mela-is-an-economic-blessing102900.txt\n",
      "./+//httpswww.tourmyindia.comkumbhmela.txt\n",
      "-------------------------------\n",
      "./-//httpsthewire.ingovernmentkumbh-2021-astrology-mortality-and-the-indifference-to-life-of-leaders-and-stars.txt\n",
      "./-//httpstimesofindia.indiatimes.comcitydehradunnearly-1300-test-covid-positive-at-kumbh-in-3-days-14-lakh-take-part-in-3rd-shahi-snanarticleshowprint82074940.cms.txt\n",
      "./-//httpswww.bbc.comnewsworld-asia-india-56770460.txt\n",
      "./-//httpswww.freepressjournal.invirala-sea-of-followers-at-kumbh-mela-twitteratis-feud-over-corona-politics-continues.txt\n",
      "./-//httpswww.sciencedirect.comsciencearticlepiiS1198743X14001074.txt\n"
     ]
    }
   ],
   "source": [
    "Dir = cwd+\"\\\\DATA\\\\\"\n",
    "\n",
    "def READ(K):\n",
    "    C = []\n",
    "    os.chdir(Dir)\n",
    "    for files in os.walk(\"./\"+K):\n",
    "        for filename in files:\n",
    "            C.append(filename)\n",
    "    C = C[2]\n",
    "    Corpus = []\n",
    "    for i in C:\n",
    "        file = \"./\"+K+\"//\"+i\n",
    "        print(file)\n",
    "        f = open(file,'r',encoding=\"utf8\")\n",
    "        T = f.read()\n",
    "        Corpus.append(T)\n",
    "    os.chdir(cwd)\n",
    "    return Corpus\n",
    "POS = READ(\"+\");\n",
    "print(\"-------------------------------\")\n",
    "NEG = READ(\"-\");"
   ]
  },
  {
   "cell_type": "code",
   "execution_count": 4,
   "metadata": {},
   "outputs": [],
   "source": [
    "from nltk.tokenize import word_tokenize\n",
    "from nltk.corpus import stopwords\n",
    "from nltk.corpus import wordnet\n",
    "from nltk.stem import PorterStemmer\n",
    "from nltk.stem import WordNetLemmatizer"
   ]
  },
  {
   "cell_type": "markdown",
   "metadata": {},
   "source": [
    "Pre Processing "
   ]
  },
  {
   "cell_type": "code",
   "execution_count": 5,
   "metadata": {},
   "outputs": [],
   "source": [
    "def PREPRO(Corpus):\n",
    "    # 1. Normalization\n",
    "    lower_corpus = []\n",
    "    Normalized_corpus = []\n",
    "\n",
    "    for i in range(len(Corpus)):\n",
    "        lower_corpus.append(' '.join([word.lower() for word in Corpus[i].split()]))\n",
    "        \n",
    "    for i in range(len(lower_corpus)):\n",
    "        Normalized_corpus.append(' '.join([word for word in lower_corpus[i].split() if word.isalpha()]))\n",
    "        \n",
    "    # 2. Tokenization\n",
    "    tokenized_corpus = []\n",
    "    for i in range(len(Normalized_corpus)):\n",
    "        tokenized_corpus.append(word_tokenize(Normalized_corpus[i]))\n",
    "        \n",
    "    # 3. Stopword removal\n",
    "    stop=stopwords.words(fileids='english')\n",
    "    StopR_corpus = []\n",
    "\n",
    "    for i in range(len(tokenized_corpus)):\n",
    "        StopR_corpus.append([word for word in tokenized_corpus[i] if word not in stop])\n",
    "        \n",
    "    # 4. Stemming\n",
    "    ps=PorterStemmer()\n",
    "    Stemmed_corpus=[]\n",
    "    for i in range(len(StopR_corpus)):\n",
    "        Stemmed_corpus.append([ps.stem(word) for word in StopR_corpus[i]])\n",
    "        \n",
    "    # 5.Lematization\n",
    "    #Lemit =[]\n",
    "    #lemmatizer = WordNetLemmatizer()\n",
    "    #for i in range(len(Stemmed_corpus)):\n",
    "    #    Lemit.append([lemmatizer.lemmatize(word) for word in Stemmed_corpus[i]])\n",
    "    \n",
    "        \n",
    "    Corpus = []\n",
    "    for i in Stemmed_corpus:\n",
    "        Str =\"\"\n",
    "        for ele in i: \n",
    "            Str += ele+\" \"\n",
    "        Corpus.append(Str)\n",
    "        \n",
    "    return Corpus\n",
    "\n",
    "\n",
    "POS = PREPRO(POS) \n",
    "NEG = PREPRO(NEG)\n"
   ]
  },
  {
   "cell_type": "markdown",
   "metadata": {},
   "source": [
    "Forming DataSet"
   ]
  },
  {
   "cell_type": "code",
   "execution_count": 6,
   "metadata": {},
   "outputs": [],
   "source": [
    "import pandas as pd\n",
    "DATA1 = pd.DataFrame(columns=[\"Flag\",\"Article\"])\n",
    "DATA2 = pd.DataFrame(columns=[\"Flag\",\"Article\"])\n",
    "for i in POS:\n",
    "    df2 = {\"Flag\" : 1,\"Article\":i}\n",
    "    DATA1 = DATA1.append(df2,ignore_index = True)\n",
    "for i in NEG:\n",
    "    df2 = {\"Flag\" : 0,\"Article\":i}\n",
    "    DATA2 = DATA2.append(df2,ignore_index = True)\n",
    "    \n",
    "\n",
    "DATA1[\"Flag\"] = DATA1[\"Flag\"].astype('int')\n",
    "DATA2[\"Flag\"] = DATA2[\"Flag\"].astype('int')\n",
    "DATA1 = DATA1.sample(frac=1).reset_index(drop=True)\n",
    "DATA2 = DATA2.sample(frac=1).reset_index(drop=True)"
   ]
  },
  {
   "cell_type": "markdown",
   "metadata": {},
   "source": [
    "Spliting Data"
   ]
  },
  {
   "cell_type": "code",
   "execution_count": 7,
   "metadata": {},
   "outputs": [],
   "source": [
    "Train = DATA1[0:3]\n",
    "Train = Train.append(DATA2[0:3])\n",
    "Test = DATA1[3:5]\n",
    "Test = Test.append(DATA2[3:5])\n",
    "Train = Train.sample(frac=1).reset_index(drop=True)\n",
    "Test = Test.sample(frac=1).reset_index(drop=True)"
   ]
  },
  {
   "cell_type": "markdown",
   "metadata": {},
   "source": [
    "Extracting Features"
   ]
  },
  {
   "cell_type": "code",
   "execution_count": 8,
   "metadata": {},
   "outputs": [
    {
     "name": "stdout",
     "output_type": "stream",
     "text": [
      "(6, 2367)\n"
     ]
    },
    {
     "data": {
      "text/html": [
       "<div>\n",
       "<style scoped>\n",
       "    .dataframe tbody tr th:only-of-type {\n",
       "        vertical-align: middle;\n",
       "    }\n",
       "\n",
       "    .dataframe tbody tr th {\n",
       "        vertical-align: top;\n",
       "    }\n",
       "\n",
       "    .dataframe thead th {\n",
       "        text-align: right;\n",
       "    }\n",
       "</style>\n",
       "<table border=\"1\" class=\"dataframe\">\n",
       "  <thead>\n",
       "    <tr style=\"text-align: right;\">\n",
       "      <th></th>\n",
       "      <th>aarogya</th>\n",
       "      <th>aarogya setu</th>\n",
       "      <th>accid</th>\n",
       "      <th>accid terrorist</th>\n",
       "      <th>accord</th>\n",
       "      <th>accord chief</th>\n",
       "      <th>accord hindu</th>\n",
       "      <th>accord sinc</th>\n",
       "      <th>accord state</th>\n",
       "      <th>accord vikram</th>\n",
       "      <th>...</th>\n",
       "      <th>year recent</th>\n",
       "      <th>year senior</th>\n",
       "      <th>yearn</th>\n",
       "      <th>yearn explor</th>\n",
       "      <th>yellow</th>\n",
       "      <th>yellow invas</th>\n",
       "      <th>zealou</th>\n",
       "      <th>zealou devote</th>\n",
       "      <th>zodiac</th>\n",
       "      <th>zodiac jupit</th>\n",
       "    </tr>\n",
       "  </thead>\n",
       "  <tbody>\n",
       "    <tr>\n",
       "      <th>0</th>\n",
       "      <td>0</td>\n",
       "      <td>0</td>\n",
       "      <td>0</td>\n",
       "      <td>0</td>\n",
       "      <td>0</td>\n",
       "      <td>0</td>\n",
       "      <td>0</td>\n",
       "      <td>0</td>\n",
       "      <td>0</td>\n",
       "      <td>0</td>\n",
       "      <td>...</td>\n",
       "      <td>0</td>\n",
       "      <td>0</td>\n",
       "      <td>0</td>\n",
       "      <td>0</td>\n",
       "      <td>0</td>\n",
       "      <td>0</td>\n",
       "      <td>0</td>\n",
       "      <td>0</td>\n",
       "      <td>0</td>\n",
       "      <td>0</td>\n",
       "    </tr>\n",
       "    <tr>\n",
       "      <th>1</th>\n",
       "      <td>0</td>\n",
       "      <td>0</td>\n",
       "      <td>1</td>\n",
       "      <td>1</td>\n",
       "      <td>1</td>\n",
       "      <td>0</td>\n",
       "      <td>1</td>\n",
       "      <td>0</td>\n",
       "      <td>0</td>\n",
       "      <td>0</td>\n",
       "      <td>...</td>\n",
       "      <td>0</td>\n",
       "      <td>0</td>\n",
       "      <td>0</td>\n",
       "      <td>0</td>\n",
       "      <td>1</td>\n",
       "      <td>1</td>\n",
       "      <td>0</td>\n",
       "      <td>0</td>\n",
       "      <td>0</td>\n",
       "      <td>0</td>\n",
       "    </tr>\n",
       "    <tr>\n",
       "      <th>2</th>\n",
       "      <td>0</td>\n",
       "      <td>0</td>\n",
       "      <td>0</td>\n",
       "      <td>0</td>\n",
       "      <td>0</td>\n",
       "      <td>0</td>\n",
       "      <td>0</td>\n",
       "      <td>0</td>\n",
       "      <td>0</td>\n",
       "      <td>0</td>\n",
       "      <td>...</td>\n",
       "      <td>0</td>\n",
       "      <td>0</td>\n",
       "      <td>0</td>\n",
       "      <td>0</td>\n",
       "      <td>0</td>\n",
       "      <td>0</td>\n",
       "      <td>0</td>\n",
       "      <td>0</td>\n",
       "      <td>0</td>\n",
       "      <td>0</td>\n",
       "    </tr>\n",
       "    <tr>\n",
       "      <th>3</th>\n",
       "      <td>0</td>\n",
       "      <td>0</td>\n",
       "      <td>0</td>\n",
       "      <td>0</td>\n",
       "      <td>6</td>\n",
       "      <td>2</td>\n",
       "      <td>0</td>\n",
       "      <td>2</td>\n",
       "      <td>2</td>\n",
       "      <td>0</td>\n",
       "      <td>...</td>\n",
       "      <td>0</td>\n",
       "      <td>0</td>\n",
       "      <td>0</td>\n",
       "      <td>0</td>\n",
       "      <td>0</td>\n",
       "      <td>0</td>\n",
       "      <td>0</td>\n",
       "      <td>0</td>\n",
       "      <td>0</td>\n",
       "      <td>0</td>\n",
       "    </tr>\n",
       "    <tr>\n",
       "      <th>4</th>\n",
       "      <td>0</td>\n",
       "      <td>0</td>\n",
       "      <td>0</td>\n",
       "      <td>0</td>\n",
       "      <td>0</td>\n",
       "      <td>0</td>\n",
       "      <td>0</td>\n",
       "      <td>0</td>\n",
       "      <td>0</td>\n",
       "      <td>0</td>\n",
       "      <td>...</td>\n",
       "      <td>1</td>\n",
       "      <td>0</td>\n",
       "      <td>0</td>\n",
       "      <td>0</td>\n",
       "      <td>0</td>\n",
       "      <td>0</td>\n",
       "      <td>0</td>\n",
       "      <td>0</td>\n",
       "      <td>1</td>\n",
       "      <td>1</td>\n",
       "    </tr>\n",
       "    <tr>\n",
       "      <th>5</th>\n",
       "      <td>1</td>\n",
       "      <td>1</td>\n",
       "      <td>0</td>\n",
       "      <td>0</td>\n",
       "      <td>1</td>\n",
       "      <td>0</td>\n",
       "      <td>0</td>\n",
       "      <td>0</td>\n",
       "      <td>0</td>\n",
       "      <td>1</td>\n",
       "      <td>...</td>\n",
       "      <td>0</td>\n",
       "      <td>1</td>\n",
       "      <td>1</td>\n",
       "      <td>1</td>\n",
       "      <td>0</td>\n",
       "      <td>0</td>\n",
       "      <td>1</td>\n",
       "      <td>1</td>\n",
       "      <td>0</td>\n",
       "      <td>0</td>\n",
       "    </tr>\n",
       "  </tbody>\n",
       "</table>\n",
       "<p>6 rows × 2367 columns</p>\n",
       "</div>"
      ],
      "text/plain": [
       "   aarogya  aarogya setu  accid  accid terrorist  accord  accord chief  \\\n",
       "0        0             0      0                0       0             0   \n",
       "1        0             0      1                1       1             0   \n",
       "2        0             0      0                0       0             0   \n",
       "3        0             0      0                0       6             2   \n",
       "4        0             0      0                0       0             0   \n",
       "5        1             1      0                0       1             0   \n",
       "\n",
       "   accord hindu  accord sinc  accord state  accord vikram  ...  year recent  \\\n",
       "0             0            0             0              0  ...            0   \n",
       "1             1            0             0              0  ...            0   \n",
       "2             0            0             0              0  ...            0   \n",
       "3             0            2             2              0  ...            0   \n",
       "4             0            0             0              0  ...            1   \n",
       "5             0            0             0              1  ...            0   \n",
       "\n",
       "   year senior  yearn  yearn explor  yellow  yellow invas  zealou  \\\n",
       "0            0      0             0       0             0       0   \n",
       "1            0      0             0       1             1       0   \n",
       "2            0      0             0       0             0       0   \n",
       "3            0      0             0       0             0       0   \n",
       "4            0      0             0       0             0       0   \n",
       "5            1      1             1       0             0       1   \n",
       "\n",
       "   zealou devote  zodiac  zodiac jupit  \n",
       "0              0       0             0  \n",
       "1              0       0             0  \n",
       "2              0       0             0  \n",
       "3              0       0             0  \n",
       "4              0       1             1  \n",
       "5              1       0             0  \n",
       "\n",
       "[6 rows x 2367 columns]"
      ]
     },
     "execution_count": 8,
     "metadata": {},
     "output_type": "execute_result"
    }
   ],
   "source": [
    "from sklearn.feature_extraction.text import CountVectorizer\n",
    "cv = CountVectorizer(ngram_range=(1,2))\n",
    "traindataset = cv.fit_transform(Train[\"Article\"])\n",
    "N = cv.get_feature_names()\n",
    "X = traindataset\n",
    "BOW = pd.DataFrame(X.toarray(),columns=N)\n",
    "print(BOW.shape)\n",
    "BOW "
   ]
  },
  {
   "cell_type": "markdown",
   "metadata": {},
   "source": [
    "Making A random Forest Model and Testing Data"
   ]
  },
  {
   "cell_type": "code",
   "execution_count": 9,
   "metadata": {},
   "outputs": [],
   "source": [
    "from sklearn.ensemble import RandomForestClassifier\n",
    "from sklearn.metrics import classification_report,confusion_matrix,accuracy_score"
   ]
  },
  {
   "cell_type": "code",
   "execution_count": 10,
   "metadata": {},
   "outputs": [],
   "source": [
    "Mscore = 0\n",
    "BK = 0 \n",
    "SK = []\n",
    "SS = []\n",
    "for K in range (100,1000,50):\n",
    "    Trandomclassifier=RandomForestClassifier(n_estimators=K,criterion='entropy')\n",
    "    Trandomclassifier.fit(traindataset,Train[\"Flag\"])\n",
    "    test_dataset = cv.transform(Test[\"Article\"])\n",
    "    Tpredictions = Trandomclassifier.predict(test_dataset)\n",
    "    score = accuracy_score(Test[\"Flag\"],Tpredictions)\n",
    "    SK.append(K)\n",
    "    SS.append(score)\n",
    "    if(Mscore < score):\n",
    "        BK = K\n",
    "        score = Mscore\n",
    "        predictions = Tpredictions\n",
    "        randomclassifier = Trandomclassifier"
   ]
  },
  {
   "cell_type": "code",
   "execution_count": 11,
   "metadata": {},
   "outputs": [
    {
     "data": {
      "image/png": "[encoded data removed]",
      "text/plain": [
       "<Figure size 432x288 with 1 Axes>"
      ]
     },
     "metadata": {
      "needs_background": "light"
     },
     "output_type": "display_data"
    },
    {
     "name": "stdout",
     "output_type": "stream",
     "text": [
      "No of Estimators taken :  950\n"
     ]
    }
   ],
   "source": [
    "import matplotlib.pyplot as plt \n",
    "plt.plot(SK,SS)\n",
    "plt.title('Training Model')\n",
    "plt.xlabel('No of Estimators')\n",
    "plt.ylabel('Accuracy')\n",
    "plt.show()\n",
    "print('No of Estimators taken : ',BK)"
   ]
  },
  {
   "cell_type": "markdown",
   "metadata": {},
   "source": [
    "RESULTS"
   ]
  },
  {
   "cell_type": "code",
   "execution_count": 12,
   "metadata": {
    "scrolled": true
   },
   "outputs": [
    {
     "name": "stdout",
     "output_type": "stream",
     "text": [
      "[[2 0]\n",
      " [1 1]]\n",
      "________________________________\n",
      "Accuracy_score :  0.75\n",
      "________________________________\n",
      "              precision    recall  f1-score   support\n",
      "\n",
      "           0       0.67      1.00      0.80         2\n",
      "           1       1.00      0.50      0.67         2\n",
      "\n",
      "    accuracy                           0.75         4\n",
      "   macro avg       0.83      0.75      0.73         4\n",
      "weighted avg       0.83      0.75      0.73         4\n",
      "\n"
     ]
    }
   ],
   "source": [
    "matrix=confusion_matrix(Test[\"Flag\"],predictions)\n",
    "print(matrix)\n",
    "print(\"________________________________\")\n",
    "score=accuracy_score(Test[\"Flag\"],predictions)\n",
    "print(\"Accuracy_score : \",score)\n",
    "print(\"________________________________\")\n",
    "report=classification_report(Test[\"Flag\"],predictions)\n",
    "print(report)"
   ]
  },
  {
   "cell_type": "code",
   "execution_count": 13,
   "metadata": {},
   "outputs": [
    {
     "data": {
      "image/png": "[encoded data removed]",
      "text/plain": [
       "<Figure size 432x288 with 2 Axes>"
      ]
     },
     "metadata": {
      "needs_background": "light"
     },
     "output_type": "display_data"
    }
   ],
   "source": [
    "from sklearn.metrics import plot_confusion_matrix\n",
    "plot_confusion_matrix(randomclassifier, test_dataset, Test[\"Flag\"])  \n",
    "plt.show() "
   ]
  },
  {
   "cell_type": "markdown",
   "metadata": {},
   "source": [
    "APPLICATION ON TWEET ANALYSIS"
   ]
  },
  {
   "cell_type": "code",
   "execution_count": 14,
   "metadata": {},
   "outputs": [
    {
     "name": "stderr",
     "output_type": "stream",
     "text": [
      "pywebcopy.configs - INFO     - Got response 200 from https://twitter.com/robots.txt\n",
      "C:\\Users\\Public\\anaconda3\\lib\\site-packages\\pywebcopy\\webpage.py:84: UserWarning: Global Configuration is not setup. You can ignore this if you are going manual.This is just one time warning regarding some unexpected behavior.\n",
      "  \"Global Configuration is not setup. You can ignore this if you are going manual.\"\n",
      "pywebcopy.configs - INFO     - Got response 200 from https://twitter.com/search?q=kumbh%20mela&src=typed_query\n",
      "webpage    - INFO     - Starting save_complete Action on url: ['https://twitter.com/search?q=kumbh%20mela&src=typed_query']\n",
      "parsers    - INFO     - Parsing tree with source: <<urllib3.response.HTTPResponse object at 0x000001ECD4D8AEC8>> encoding <utf-8> and parser <<lxml.etree.HTMLParser object at 0x000001ECD4D64408>>\n",
      "webpage    - INFO     - Starting save_assets Action on url: 'https://twitter.com/search?q=kumbh mela&src=typed_query'\n",
      "webpage    - Level 100 - Queueing download of <269> asset files.\n",
      "elements   - INFO     - File already exists at location: ['D:\\\\EDUCATION\\\\EDU\\\\SEM 6\\\\NLP\\\\Tweet Analysis\\\\abs.twimg.com\\\\a\\\\1619050806\\\\css\\\\t1\\\\3346d5eb__twitter_core.bundle.css']\n",
      "elements   - INFO     - File already exists at location: ['D:\\\\EDUCATION\\\\EDU\\\\SEM 6\\\\NLP\\\\Tweet Analysis\\\\abs.twimg.com\\\\a\\\\1619050806\\\\css\\\\t1\\\\e9e0dacf__twitter_more_1.bundle.css']\n",
      "elements   - INFO     - File already exists at location: ['D:\\\\EDUCATION\\\\EDU\\\\SEM 6\\\\NLP\\\\Tweet Analysis\\\\abs.twimg.com\\\\a\\\\1619050806\\\\css\\\\t1\\\\c4108205__twitter_more_2.bundle.css']\n",
      "elements   - INFO     - File already exists at location: ['D:\\\\EDUCATION\\\\EDU\\\\SEM 6\\\\NLP\\\\Tweet Analysis\\\\t.co\\\\file_d8c3764d.pwc']\n",
      "elements   - INFO     - File already exists at location: ['D:\\\\EDUCATION\\\\EDU\\\\SEM 6\\\\NLP\\\\Tweet Analysis\\\\abs.twimg.com\\\\k\\\\en\\\\9e23550d__0.commons.en.2d6be4aa18878a5eb7fc.js']\n",
      "elements   - INFO     - File already exists at location: ['D:\\\\EDUCATION\\\\EDU\\\\SEM 6\\\\NLP\\\\Tweet Analysis\\\\abs.twimg.com\\\\k\\\\en\\\\09bd3417__10.pages_search.en.a3ea2e4006f9168b0b78.js']\n",
      "elements   - INFO     - File already exists at location: ['D:\\\\EDUCATION\\\\EDU\\\\SEM 6\\\\NLP\\\\Tweet Analysis\\\\abs.twimg.com\\\\k\\\\en\\\\6eec7ed2__init.en.100f6089c239c07dabd6.js']\n",
      "webpage    - INFO     - Starting save_html Action on url: 'https://twitter.com/search?q=kumbh mela&src=typed_query'\n",
      "elements   - INFO     - File already exists at location: 'D:\\\\EDUCATION\\\\EDU\\\\SEM 6\\\\NLP\\\\Tweet Analysis\\\\pbs.twimg.com\\\\ext_tw_video_thumb\\\\1384759390801055746\\\\pu\\\\img\\\\2fdd7788__nZAFso_Ig6n-nXZV.jpg'\n",
      "webpage    - INFO     - WebPage saved successfully to D:\\EDUCATION\\EDU\\SEM 6\\NLP\\Tweet Analysis\\twitter.com\\4845791a__search.html\n",
      "pywebcopy.configs - INFO     - Got response 200 from https://abs.twimg.com/icons/apple-touch-icon-192x192.png\n",
      "elements   - INFO     - Writing file at location D:\\EDUCATION\\EDU\\SEM 6\\NLP\\Tweet Analysis\\abs.twimg.com\\icons\\fd97b47c__apple-touch-icon-192x192.png\n",
      "elements   - INFO     - File of type .png written successfully to D:\\EDUCATION\\EDU\\SEM 6\\NLP\\Tweet Analysis\\abs.twimg.com\\icons\\fd97b47c__apple-touch-icon-192x192.png\n",
      "pywebcopy.configs - INFO     - Got response 400 from https://pbs.twimg.com/\n",
      "elements   - ERROR    - Failed to load the content of file D:\\EDUCATION\\EDU\\SEM 6\\NLP\\Tweet Analysis\\pbs.twimg.com\\file_02909724.pwc from https://pbs.twimg.com\n",
      "pywebcopy.configs - INFO     - Got response 200 from https://abs.twimg.com/icons/apple-touch-icon-192x192.png\n",
      "elements   - INFO     - [0] CSS linked files are found in file [D:\\EDUCATION\\EDU\\SEM 6\\NLP\\Tweet Analysis\\abs.twimg.com\\icons\\fd97b47c__apple-touch-icon-192x192.png]\n",
      "elements   - INFO     - File already exists at location: 'D:\\\\EDUCATION\\\\EDU\\\\SEM 6\\\\NLP\\\\Tweet Analysis\\\\abs.twimg.com\\\\icons\\\\fd97b47c__apple-touch-icon-192x192.png'\n",
      "elements   - INFO     - File already exists at location: 'D:\\\\EDUCATION\\\\EDU\\\\SEM 6\\\\NLP\\\\Tweet Analysis\\\\pbs.twimg.com\\\\media\\\\8c030a55__EzlPlSKVkA0id85.jpg'\n",
      "pywebcopy.configs - INFO     - Got response 400 from https://pbs.twimg.com/\n",
      "pywebcopy.configs - INFO     - Got response 200 from https://pbs.twimg.com/profile_images/1146389883780362240/Ev-27nY1_bigger.jpg\n",
      "elements   - ERROR    - URL returned an unknown response: [https://pbs.twimg.com]\n",
      "elements   - INFO     - Writing file at location D:\\EDUCATION\\EDU\\SEM 6\\NLP\\Tweet Analysis\\pbs.twimg.com\\profile_images\\1146389883780362240\\fb2f1dac__Ev-27nY1_bigger.jpg\n",
      "elements   - INFO     - File of type .jpg written successfully to D:\\EDUCATION\\EDU\\SEM 6\\NLP\\Tweet Analysis\\pbs.twimg.com\\profile_images\\1146389883780362240\\fb2f1dac__Ev-27nY1_bigger.jpg\n",
      "elements   - INFO     - File already exists at location: 'D:\\\\EDUCATION\\\\EDU\\\\SEM 6\\\\NLP\\\\Tweet Analysis\\\\pbs.twimg.com\\\\profile_images\\\\1345580228438073345\\\\9d9d0955__Pia3PW49_bigger.jpg'\n"
     ]
    }
   ],
   "source": [
    "from pywebcopy import save_webpage\n",
    "import time\n",
    "import threading\n",
    "\n",
    "url = 'https://twitter.com/search?q=kumbh%20mela&src=typed_query'\n",
    "download_folder = cwd    \n",
    "kwargs = {'bypass_robots': True, 'project_name': 'Tweet Analysis'}\n",
    "\n",
    "def DOWN():\n",
    "    save_webpage(url, download_folder, **kwargs)\n",
    "\n",
    "\n",
    "t = threading.Thread(target=DOWN)\n",
    "t.daemon = True\n",
    "t.start()\n",
    "\n",
    "time.sleep(20)"
   ]
  },
  {
   "cell_type": "code",
   "execution_count": 15,
   "metadata": {},
   "outputs": [
    {
     "data": {
      "text/plain": [
       "'4845791a__search.html'"
      ]
     },
     "execution_count": 15,
     "metadata": {},
     "output_type": "execute_result"
    }
   ],
   "source": [
    "file = cwd+'\\\\Tweet Analysis\\\\twitter.com'\n",
    "C = []\n",
    "for files in os.walk(file):\n",
    "    for filename in files:\n",
    "        C.append(filename)\n",
    "C = C[2][0]\n",
    "C"
   ]
  },
  {
   "cell_type": "code",
   "execution_count": 16,
   "metadata": {},
   "outputs": [],
   "source": [
    "from bs4 import BeautifulSoup\n",
    "os.chdir(file)\n",
    "response =  open(C)\n",
    "Data = response.read()\n",
    "response.close()\n",
    "os.chdir(cwd)\n",
    "soup = BeautifulSoup(Data, 'html.parser')"
   ]
  },
  {
   "cell_type": "code",
   "execution_count": 17,
   "metadata": {
    "scrolled": true
   },
   "outputs": [
    {
     "name": "stdout",
     "output_type": "stream",
     "text": [
      "Total Fetched Tweets in English :  20\n"
     ]
    }
   ],
   "source": [
    "tweets = soup.find_all(\"p\",{\"class\": \"TweetTextSize js-tweet-text tweet-text\",\"lang\": \"en\"})\n",
    "Tweet = []\n",
    "for T in tweets:\n",
    "    Tweet.append(T.text)\n",
    "print(\"Total Fetched Tweets in English : \",len(Tweet))"
   ]
  },
  {
   "cell_type": "code",
   "execution_count": 18,
   "metadata": {},
   "outputs": [
    {
     "name": "stdout",
     "output_type": "stream",
     "text": [
      "\"26th May tak Hum Kumbh Mela Dhoom dhaam se manayege aur yahi rakhenge\" - Mahant Narayan Giri of Juna Akhara\n",
      "This would've been breaking news across news channels if this was announced in Nizamuddin Markaz by Head of Tablighi Jamaat head, Maulana Saad. \n",
      "\n",
      "pic.twitter.com/BfsEDKobfy\n"
     ]
    }
   ],
   "source": [
    "print(Tweet[4])"
   ]
  },
  {
   "cell_type": "code",
   "execution_count": 19,
   "metadata": {},
   "outputs": [],
   "source": [
    "ATweet = Tweet"
   ]
  },
  {
   "cell_type": "code",
   "execution_count": 20,
   "metadata": {},
   "outputs": [],
   "source": [
    "Tweet = PREPRO(Tweet)"
   ]
  },
  {
   "cell_type": "code",
   "execution_count": 21,
   "metadata": {},
   "outputs": [],
   "source": [
    "Tweet = pd.DataFrame(Tweet,columns=[\"Tweets\"])\n",
    "ATweet = pd.DataFrame(ATweet,columns=[\"Tweets\"])"
   ]
  },
  {
   "cell_type": "code",
   "execution_count": 22,
   "metadata": {},
   "outputs": [
    {
     "data": {
      "text/html": [
       "<div>\n",
       "<style scoped>\n",
       "    .dataframe tbody tr th:only-of-type {\n",
       "        vertical-align: middle;\n",
       "    }\n",
       "\n",
       "    .dataframe tbody tr th {\n",
       "        vertical-align: top;\n",
       "    }\n",
       "\n",
       "    .dataframe thead th {\n",
       "        text-align: right;\n",
       "    }\n",
       "</style>\n",
       "<table border=\"1\" class=\"dataframe\">\n",
       "  <thead>\n",
       "    <tr style=\"text-align: right;\">\n",
       "      <th></th>\n",
       "      <th>Tweets</th>\n",
       "      <th>Predictions</th>\n",
       "    </tr>\n",
       "  </thead>\n",
       "  <tbody>\n",
       "    <tr>\n",
       "      <th>0</th>\n",
       "      <td>I have a problem with the Kumbh Mela. But i ha...</td>\n",
       "      <td>0</td>\n",
       "    </tr>\n",
       "    <tr>\n",
       "      <th>1</th>\n",
       "      <td>Question: Did you know that the super-spreader...</td>\n",
       "      <td>0</td>\n",
       "    </tr>\n",
       "    <tr>\n",
       "      <th>2</th>\n",
       "      <td>report  of Rajesh Kunte- kumbh attendee\\nTHE T...</td>\n",
       "      <td>0</td>\n",
       "    </tr>\n",
       "    <tr>\n",
       "      <th>3</th>\n",
       "      <td>There were no trains for 40 days last year whe...</td>\n",
       "      <td>0</td>\n",
       "    </tr>\n",
       "    <tr>\n",
       "      <th>4</th>\n",
       "      <td>\"26th May tak Hum Kumbh Mela Dhoom dhaam se ma...</td>\n",
       "      <td>0</td>\n",
       "    </tr>\n",
       "    <tr>\n",
       "      <th>5</th>\n",
       "      <td>MORNING: \"Kumbh Mela must be kept symbolic due...</td>\n",
       "      <td>0</td>\n",
       "    </tr>\n",
       "    <tr>\n",
       "      <th>6</th>\n",
       "      <td>Here’s BJP’s @amitmalviya admitting that Modi ...</td>\n",
       "      <td>0</td>\n",
       "    </tr>\n",
       "    <tr>\n",
       "      <th>7</th>\n",
       "      <td>Listen to what Arnab Goswami said about Kumbh ...</td>\n",
       "      <td>0</td>\n",
       "    </tr>\n",
       "    <tr>\n",
       "      <th>8</th>\n",
       "      <td>PM tweet 17/4:\\nI appeal to everyone to keep K...</td>\n",
       "      <td>0</td>\n",
       "    </tr>\n",
       "    <tr>\n",
       "      <th>9</th>\n",
       "      <td>#ResignModi Pragya mishra murdered in broad da...</td>\n",
       "      <td>0</td>\n",
       "    </tr>\n",
       "    <tr>\n",
       "      <th>10</th>\n",
       "      <td>One law for Kumbh Mela\\nOne law for Tabligi Ja...</td>\n",
       "      <td>0</td>\n",
       "    </tr>\n",
       "    <tr>\n",
       "      <th>11</th>\n",
       "      <td>Exclusive video from Kumbh Mela\\n\\nModi must r...</td>\n",
       "      <td>0</td>\n",
       "    </tr>\n",
       "    <tr>\n",
       "      <th>12</th>\n",
       "      <td>3,40,000 cases. 2500 dead.\\n\\nKumbh mela is st...</td>\n",
       "      <td>0</td>\n",
       "    </tr>\n",
       "    <tr>\n",
       "      <th>13</th>\n",
       "      <td>Bollywood stars leaving for Kumbh Mela at Mald...</td>\n",
       "      <td>0</td>\n",
       "    </tr>\n",
       "    <tr>\n",
       "      <th>14</th>\n",
       "      <td>The Kumbh mela and election rallies happened o...</td>\n",
       "      <td>0</td>\n",
       "    </tr>\n",
       "    <tr>\n",
       "      <th>15</th>\n",
       "      <td>So thousands of farmers marching to Delhi is n...</td>\n",
       "      <td>0</td>\n",
       "    </tr>\n",
       "    <tr>\n",
       "      <th>16</th>\n",
       "      <td>Shravan’s Kumar's son Sanjeev told that his fa...</td>\n",
       "      <td>0</td>\n",
       "    </tr>\n",
       "    <tr>\n",
       "      <th>17</th>\n",
       "      <td>Govt of India has completely failed in this na...</td>\n",
       "      <td>0</td>\n",
       "    </tr>\n",
       "    <tr>\n",
       "      <th>18</th>\n",
       "      <td>#IndiaNeedsOxygen\\nIndian banned Islamic congr...</td>\n",
       "      <td>0</td>\n",
       "    </tr>\n",
       "    <tr>\n",
       "      <th>19</th>\n",
       "      <td>49 people, who returned to Gujarat after takin...</td>\n",
       "      <td>0</td>\n",
       "    </tr>\n",
       "  </tbody>\n",
       "</table>\n",
       "</div>"
      ],
      "text/plain": [
       "                                               Tweets  Predictions\n",
       "0   I have a problem with the Kumbh Mela. But i ha...            0\n",
       "1   Question: Did you know that the super-spreader...            0\n",
       "2   report  of Rajesh Kunte- kumbh attendee\\nTHE T...            0\n",
       "3   There were no trains for 40 days last year whe...            0\n",
       "4   \"26th May tak Hum Kumbh Mela Dhoom dhaam se ma...            0\n",
       "5   MORNING: \"Kumbh Mela must be kept symbolic due...            0\n",
       "6   Here’s BJP’s @amitmalviya admitting that Modi ...            0\n",
       "7   Listen to what Arnab Goswami said about Kumbh ...            0\n",
       "8   PM tweet 17/4:\\nI appeal to everyone to keep K...            0\n",
       "9   #ResignModi Pragya mishra murdered in broad da...            0\n",
       "10  One law for Kumbh Mela\\nOne law for Tabligi Ja...            0\n",
       "11  Exclusive video from Kumbh Mela\\n\\nModi must r...            0\n",
       "12  3,40,000 cases. 2500 dead.\\n\\nKumbh mela is st...            0\n",
       "13  Bollywood stars leaving for Kumbh Mela at Mald...            0\n",
       "14  The Kumbh mela and election rallies happened o...            0\n",
       "15  So thousands of farmers marching to Delhi is n...            0\n",
       "16  Shravan’s Kumar's son Sanjeev told that his fa...            0\n",
       "17  Govt of India has completely failed in this na...            0\n",
       "18  #IndiaNeedsOxygen\\nIndian banned Islamic congr...            0\n",
       "19  49 people, who returned to Gujarat after takin...            0"
      ]
     },
     "execution_count": 22,
     "metadata": {},
     "output_type": "execute_result"
    }
   ],
   "source": [
    "test_dataset = cv.transform(Tweet[\"Tweets\"])\n",
    "predictions = randomclassifier.predict(test_dataset)\n",
    "ATweet[\"Predictions\"] = pd.DataFrame(predictions)\n",
    "ATweet"
   ]
  },
  {
   "cell_type": "code",
   "execution_count": 23,
   "metadata": {},
   "outputs": [
    {
     "name": "stdout",
     "output_type": "stream",
     "text": [
      "I have a problem with the Kumbh Mela. But i have no problem with this. I'm an Indian secular. \n",
      "That's the tweet. pic.twitter.com/bknSjiPraZ\n",
      "_________________________________\n",
      "Sentiments =>   Negative\n",
      "_________________________________\n",
      "---------------------------------------------------------\n",
      "Question: Did you know that the super-spreader Kumbh Mela in Haridwar should have happened next year – twelve years after the last one, in 2010?\n",
      "\n",
      "But the government agreed to bring it forward to 2021, for astrological reasons?\n",
      "\n",
      "RT if you didn't know, Fav if you did.\n",
      "_________________________________\n",
      "Sentiments =>   Negative\n",
      "_________________________________\n",
      "---------------------------------------------------------\n",
      "report  of Rajesh Kunte- kumbh attendee\n",
      "THE TRUTH ABOUT HARIDWAR DURING KUMBHA*\n",
      "\n",
      "I think people really need to know the truth of what happened in Haridwar during Kumbh Mela and the arrangements there.\n",
      "\n",
      "I have returned from Haridwar today (17 April, 2021).\n",
      "_________________________________\n",
      "Sentiments =>   Negative\n",
      "_________________________________\n",
      "---------------------------------------------------------\n",
      "There were no trains for 40 days last year when lockdown was declared. Migrant workers walked for miles back home hungry, thirsty, tired.... with blisters in their feet.\n",
      "\n",
      "But the Govt ran 25 special trains for #KumbhMela when the active cases are at its peak.\n",
      "\n",
      "Good governance! \n",
      "_________________________________\n",
      "Sentiments =>   Negative\n",
      "_________________________________\n",
      "---------------------------------------------------------\n",
      "\"26th May tak Hum Kumbh Mela Dhoom dhaam se manayege aur yahi rakhenge\" - Mahant Narayan Giri of Juna Akhara\n",
      "This would've been breaking news across news channels if this was announced in Nizamuddin Markaz by Head of Tablighi Jamaat head, Maulana Saad. \n",
      "\n",
      "pic.twitter.com/BfsEDKobfy\n",
      "_________________________________\n",
      "Sentiments =>   Negative\n",
      "_________________________________\n",
      "---------------------------------------------------------\n",
      "MORNING: \"Kumbh Mela must be kept symbolic due to Corona Crisis\"\n",
      "\n",
      "AFTERNOON: \"I am very happy to see huge crowds when I am in Bengal\"\n",
      "\n",
      "NIGHT: \"Reviewed CoVID situation. We will fight it with greater speed\"\n",
      "\n",
      "Does Modi have Multiple Personality Disorder? Is he still fit for office?\n",
      "_________________________________\n",
      "Sentiments =>   Negative\n",
      "_________________________________\n",
      "---------------------------------------------------------\n",
      "Here’s BJP’s @amitmalviya admitting that Modi govt knew about the 2nd wave but still:\n",
      "\n",
      "1. Kept exporting vaccines \n",
      "\n",
      "2. Kept exporting oxygen \n",
      "\n",
      "3. Allowed Kumbh Mela\n",
      "\n",
      "4. Didn’t create a national stockpile of Remdesivir & other essential meds\n",
      "\n",
      "This is pure admission of culpability. https://twitter.com/amitmalviya/status/1385136394943741955 …\n",
      "_________________________________\n",
      "Sentiments =>   Negative\n",
      "_________________________________\n",
      "---------------------------------------------------------\n",
      "Listen to what Arnab Goswami said about Kumbh Mela in full volume \n",
      "#PMCaresFund_का_हिसाब_दो\n",
      "#RamNavamipic.twitter.com/zJYKAcJKzO\n",
      "_________________________________\n",
      "Sentiments =>   Negative\n",
      "_________________________________\n",
      "---------------------------------------------------------\n",
      "PM tweet 17/4:\n",
      "I appeal to everyone to keep Kumbh Mela symbolic due to coronavirus crisis.\n",
      "\n",
      "PM on 17/4 at Asansol rally:\n",
      "I see huge crowds of people .. have witnessed such a rally for the first time... Today, you have shown your power.\n",
      "\n",
      "Clearly megalomania follows no logic.\n",
      "_________________________________\n",
      "Sentiments =>   Negative\n",
      "_________________________________\n",
      "---------------------------------------------------------\n",
      "#ResignModi Pragya mishra murdered in broad daylight\n",
      "Because she was talking in news about kumbh mela in the era of cornavirus  pic.twitter.com/hxvBllLnye\n",
      "_________________________________\n",
      "Sentiments =>   Negative\n",
      "_________________________________\n",
      "---------------------------------------------------------\n",
      "One law for Kumbh Mela\n",
      "One law for Tabligi Jamaat\n",
      "\n",
      "One law for Election Rallies\n",
      "One law for Night Curfew\n",
      "\n",
      "One law for Modi\n",
      "One law for Uddhav\n",
      "\n",
      "ONE NATION, MANY LAWS, NO JUSTICE\n",
      "\n",
      "Banana Republic of New India is a Mess\n",
      "_________________________________\n",
      "Sentiments =>   Negative\n",
      "_________________________________\n",
      "---------------------------------------------------------\n",
      "Exclusive video from Kumbh Mela\n",
      "\n",
      "Modi must resign for risking the entire nation pic.twitter.com/ogu4PqshqS\n",
      "_________________________________\n",
      "Sentiments =>   Negative\n",
      "_________________________________\n",
      "---------------------------------------------------------\n",
      "3,40,000 cases. 2500 dead.\n",
      "\n",
      "Kumbh mela is still on. So is election campaigning. #Indiahttps://twitter.com/iamnarendranath/status/1385649634316488705 …\n",
      "_________________________________\n",
      "Sentiments =>   Negative\n",
      "_________________________________\n",
      "---------------------------------------------------------\n",
      "Bollywood stars leaving for Kumbh Mela at Maldives. pic.twitter.com/PFxYtctu0u\n",
      "_________________________________\n",
      "Sentiments =>   Negative\n",
      "_________________________________\n",
      "---------------------------------------------------------\n",
      "The Kumbh mela and election rallies happened on Mars.\n",
      "_________________________________\n",
      "Sentiments =>   Negative\n",
      "_________________________________\n",
      "---------------------------------------------------------\n",
      "So thousands of farmers marching to Delhi is not a super spreader event for those who were ranting about the Kumbh Mela? Does Corona not infect farmers? pic.twitter.com/S95K1JBOXC\n",
      "_________________________________\n",
      "Sentiments =>   Negative\n",
      "_________________________________\n",
      "---------------------------------------------------------\n",
      "Shravan’s Kumar's son Sanjeev told that his father and mother had returned from Kumbh Mela a few days before testing positive for Covid-19. He said, “My father passed away, I am Covid positive and so is my mother. My brother is also positive and is in home isolation,” https://twitter.com/ieEntertainment/status/1385467216867454981 …\n",
      "_________________________________\n",
      "Sentiments =>   Negative\n",
      "_________________________________\n",
      "---------------------------------------------------------\n",
      "Govt of India has completely failed in this national health emergency.\n",
      "India records the world's highest single day cases of 3,15,660.\n",
      "Not only has GOI been sorely unprepared but they've also contributed to criminal negligence by allowing political rallies,elections & kumbh mela.\n",
      "_________________________________\n",
      "Sentiments =>   Negative\n",
      "_________________________________\n",
      "---------------------------------------------------------\n",
      "#IndiaNeedsOxygen\n",
      "Indian banned Islamic congregations and ket loose the Kumbh mela as if Hindus were immune to Covid! Covid came back with vengeance. pic.twitter.com/9DFTYg7OAn\n",
      "_________________________________\n",
      "Sentiments =>   Negative\n",
      "_________________________________\n",
      "---------------------------------------------------------\n",
      "49 people, who returned to Gujarat after taking part in Kumbh Mela in Haridwar, tested coronavirus positive in past two days: Officials\n",
      "_________________________________\n",
      "Sentiments =>   Negative\n",
      "_________________________________\n",
      "---------------------------------------------------------\n"
     ]
    }
   ],
   "source": [
    "for index, row in ATweet.iterrows():\n",
    "    print(row['Tweets'])\n",
    "    print(\"_________________________________\")\n",
    "    print(\"Sentiments => \",end=\"  \")\n",
    "    if row['Predictions'] == 0 :\n",
    "        print(\"Negative\")\n",
    "    else:\n",
    "        print(\"Positive\")\n",
    "    print(\"_________________________________\")\n",
    "    print(\"---------------------------------------------------------\")"
   ]
  },
  {
   "cell_type": "code",
   "execution_count": 24,
   "metadata": {},
   "outputs": [
    {
     "name": "stdout",
     "output_type": "stream",
     "text": [
      "Tweet Analysis On Topic - Kumbh Mela in Covid\n",
      "Positive :  0.0 %\n",
      "Negative :  100.0 %\n"
     ]
    }
   ],
   "source": [
    "C = list(ATweet.isin([0]).sum())\n",
    "C = C[1]\n",
    "N = ATweet.shape[0]\n",
    "X1 = ((N-C)/N)*100 \n",
    "X0 = ((C)/N)*100\n",
    "print(\"Tweet Analysis On Topic - Kumbh Mela in Covid\")\n",
    "print(\"Positive : \",X1 ,\"%\")\n",
    "print(\"Negative : \",X0 ,\"%\")"
   ]
  },
  {
   "cell_type": "code",
   "execution_count": null,
   "metadata": {},
   "outputs": [],
   "source": []
  },
  {
   "cell_type": "code",
   "execution_count": null,
   "metadata": {},
   "outputs": [],
   "source": []
  }
 ],
 "metadata": {
  "kernelspec": {
   "display_name": "Python 3",
   "language": "python",
   "name": "python3"
  },
  "language_info": {
   "codemirror_mode": {
    "name": "ipython",
    "version": 3
   },
   "file_extension": ".py",
   "mimetype": "text/x-python",
   "name": "python",
   "nbconvert_exporter": "python",
   "pygments_lexer": "ipython3",
   "version": "3.7.6"
  }
 },
 "nbformat": 4,
 "nbformat_minor": 4
}
